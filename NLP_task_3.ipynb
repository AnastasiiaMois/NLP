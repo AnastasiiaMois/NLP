{
 "cells": [
  {
   "cell_type": "code",
   "execution_count": 1,
   "metadata": {
    "colab": {
     "base_uri": "https://localhost:8080/",
     "height": 105
    },
    "colab_type": "code",
    "id": "ZDqg_k40YfY7",
    "outputId": "937cfb87-2f37-4bc6-a35a-f688e4f64424"
   },
   "outputs": [
    {
     "name": "stdout",
     "output_type": "stream",
     "text": [
      "Processing /Users/anastasiamoiseva/Library/Caches/pip/wheels/9f/f0/04/caa82c912aee89ce76358ff954f3f0729b7577c8ff23a292e3/fasttext-0.9.1-cp37-cp37m-macosx_10_7_x86_64.whl\n",
      "Requirement already satisfied: numpy in /anaconda3/envs/tensorflow_env/lib/python3.7/site-packages (from fasttext) (1.17.4)\n",
      "Requirement already satisfied: setuptools>=0.7.0 in /anaconda3/envs/tensorflow_env/lib/python3.7/site-packages (from fasttext) (42.0.2.post20191203)\n",
      "Requirement already satisfied: pybind11>=2.2 in /anaconda3/envs/tensorflow_env/lib/python3.7/site-packages (from fasttext) (2.5.0)\n",
      "Installing collected packages: fasttext\n",
      "Successfully installed fasttext-0.9.1\n",
      "Note: you may need to restart the kernel to use updated packages.\n"
     ]
    }
   ],
   "source": [
    "pip install fasttext"
   ]
  },
  {
   "cell_type": "code",
   "execution_count": 2,
   "metadata": {
    "colab": {},
    "colab_type": "code",
    "id": "UZ6vfmtzYi_c"
   },
   "outputs": [],
   "source": [
    "import numpy as np \n",
    "import pandas as pd \n",
    "import fasttext\n",
    "import bz2\n",
    "import csv\n",
    "from sklearn.metrics import roc_auc_score\n",
    "import os"
   ]
  },
  {
   "cell_type": "code",
   "execution_count": 12,
   "metadata": {
    "colab": {
     "base_uri": "https://localhost:8080/",
     "height": 34
    },
    "colab_type": "code",
    "id": "cERdF_1GYuGt",
    "outputId": "03bc6c4c-f22d-4627-fc11-765652130b86"
   },
   "outputs": [
    {
     "name": "stdout",
     "output_type": "stream",
     "text": [
      "3600000\n"
     ]
    }
   ],
   "source": [
    "data = bz2.BZ2File(\"amazonreviews/train.ft.txt.bz2\")\n",
    "data = data.readlines()\n",
    "data = [x.decode('utf-8') for x in data]\n",
    "print(len(data))"
   ]
  },
  {
   "cell_type": "code",
   "execution_count": 6,
   "metadata": {
    "colab": {},
    "colab_type": "code",
    "id": "DpCcTUIkPS3_"
   },
   "outputs": [],
   "source": [
    "data = pd.DataFrame(data)\n",
    "data.to_csv(\"train.txt\", index=False, sep=' ', header=False, quoting=csv.QUOTE_NONE, quotechar=\"\", escapechar=\" \")"
   ]
  },
  {
   "cell_type": "code",
   "execution_count": 7,
   "metadata": {
    "colab": {
     "base_uri": "https://localhost:8080/",
     "height": 34
    },
    "colab_type": "code",
    "id": "t1o36gxbPTq7",
    "outputId": "7e770fc0-17f3-4a2f-cbdb-292fd05f578a"
   },
   "outputs": [
    {
     "name": "stdout",
     "output_type": "stream",
     "text": [
      "['__label__1', '__label__2'] are the labels or targets the model is predicting\n"
     ]
    }
   ],
   "source": [
    "model = fasttext.train_supervised('train.txt',label_prefix='__label__', thread=4, epoch = 10)\n",
    "print(model.labels, 'are the labels or targets the model is predicting')"
   ]
  },
  {
   "cell_type": "code",
   "execution_count": 8,
   "metadata": {
    "colab": {
     "base_uri": "https://localhost:8080/",
     "height": 34
    },
    "colab_type": "code",
    "id": "XjdJeAgfPXUd",
    "outputId": "d67cce13-466b-4790-8960-48c13a162423"
   },
   "outputs": [
    {
     "name": "stdout",
     "output_type": "stream",
     "text": [
      "400000 number of records in the test set\n"
     ]
    }
   ],
   "source": [
    "test = bz2.BZ2File(\"amazonreviews/test.ft.txt.bz2\")\n",
    "test = test.readlines()\n",
    "test = [x.decode('utf-8') for x in test]\n",
    "print(len(test), 'number of records in the test set') "
   ]
  },
  {
   "cell_type": "code",
   "execution_count": 9,
   "metadata": {
    "colab": {},
    "colab_type": "code",
    "id": "UqiSrBy9PcSl"
   },
   "outputs": [],
   "source": [
    "new = [w.replace('__label__2 ', '') for w in test]\n",
    "new = [w.replace('__label__1 ', '') for w in new]\n",
    "new = [w.replace('\\n', '') for w in new]"
   ]
  },
  {
   "cell_type": "code",
   "execution_count": 10,
   "metadata": {
    "colab": {
     "base_uri": "https://localhost:8080/",
     "height": 51
    },
    "colab_type": "code",
    "id": "2CgexXtYQFwV",
    "outputId": "1cdb36bd-4272-43e7-f762-73f9faa0e322"
   },
   "outputs": [
    {
     "name": "stdout",
     "output_type": "stream",
     "text": [
      "['__label__2'] is the predicted label\n",
      "['__label__2'] is the probability score\n"
     ]
    }
   ],
   "source": [
    "# Use the predict function \n",
    "pred = model.predict(new)\n",
    "\n",
    "# check the first record outputs\n",
    "print(pred[0][0], 'is the predicted label')\n",
    "print(pred[0][1], 'is the probability score')"
   ]
  },
  {
   "cell_type": "code",
   "execution_count": 11,
   "metadata": {
    "colab": {
     "base_uri": "https://localhost:8080/",
     "height": 34
    },
    "colab_type": "code",
    "id": "Gq1U6XyuQLJA",
    "outputId": "b14a8d23-ac46-474a-d2b8-7be7e160f4c1"
   },
   "outputs": [
    {
     "name": "stdout",
     "output_type": "stream",
     "text": [
      "0.9173074999999999\n"
     ]
    }
   ],
   "source": [
    "labels = [0 if x.split(' ')[0] == '__label__1' else 1 for x in test]\n",
    "pred_labels = [0 if x == ['__label__1'] else 1 for x in pred[0]]\n",
    "\n",
    "# run the accuracy measure. \n",
    "print(roc_auc_score(labels, pred_labels))"
   ]
  },
  {
   "cell_type": "markdown",
   "metadata": {},
   "source": [
    "Now building 'hard baseline' model"
   ]
  },
  {
   "cell_type": "code",
   "execution_count": 13,
   "metadata": {
    "colab": {},
    "colab_type": "code",
    "id": "XViVfAMAhen-"
   },
   "outputs": [],
   "source": [
    "train_labels  = [0 if x.split(' ')[0] == '__label__1' else 1 for x in data]"
   ]
  },
  {
   "cell_type": "code",
   "execution_count": 14,
   "metadata": {
    "colab": {},
    "colab_type": "code",
    "id": "7LxM4RGKhp6J"
   },
   "outputs": [],
   "source": [
    "labels_tr = pd.DataFrame(train_labels)"
   ]
  },
  {
   "cell_type": "code",
   "execution_count": 15,
   "metadata": {
    "colab": {},
    "colab_type": "code",
    "id": "I85F_5JwhnoE"
   },
   "outputs": [],
   "source": [
    "new_train = [w.replace('__label__2 ', '') for w in data]\n",
    "new_train = [w.replace('__label__1 ', '') for w in new_train]\n",
    "new_train = [w.replace('\\n', '') for w in new_train]"
   ]
  },
  {
   "cell_type": "code",
   "execution_count": 16,
   "metadata": {
    "colab": {},
    "colab_type": "code",
    "id": "u4aehqVhhsBw"
   },
   "outputs": [
    {
     "data": {
      "text/html": [
       "<div>\n",
       "<style scoped>\n",
       "    .dataframe tbody tr th:only-of-type {\n",
       "        vertical-align: middle;\n",
       "    }\n",
       "\n",
       "    .dataframe tbody tr th {\n",
       "        vertical-align: top;\n",
       "    }\n",
       "\n",
       "    .dataframe thead th {\n",
       "        text-align: right;\n",
       "    }\n",
       "</style>\n",
       "<table border=\"1\" class=\"dataframe\">\n",
       "  <thead>\n",
       "    <tr style=\"text-align: right;\">\n",
       "      <th></th>\n",
       "      <th>0</th>\n",
       "    </tr>\n",
       "  </thead>\n",
       "  <tbody>\n",
       "    <tr>\n",
       "      <td>0</td>\n",
       "      <td>Stuning even for the non-gamer: This sound tra...</td>\n",
       "    </tr>\n",
       "    <tr>\n",
       "      <td>1</td>\n",
       "      <td>The best soundtrack ever to anything.: I'm rea...</td>\n",
       "    </tr>\n",
       "    <tr>\n",
       "      <td>2</td>\n",
       "      <td>Amazing!: This soundtrack is my favorite music...</td>\n",
       "    </tr>\n",
       "    <tr>\n",
       "      <td>3</td>\n",
       "      <td>Excellent Soundtrack: I truly like this soundt...</td>\n",
       "    </tr>\n",
       "  </tbody>\n",
       "</table>\n",
       "</div>"
      ],
      "text/plain": [
       "                                                   0\n",
       "0  Stuning even for the non-gamer: This sound tra...\n",
       "1  The best soundtrack ever to anything.: I'm rea...\n",
       "2  Amazing!: This soundtrack is my favorite music...\n",
       "3  Excellent Soundtrack: I truly like this soundt..."
      ]
     },
     "execution_count": 16,
     "metadata": {},
     "output_type": "execute_result"
    }
   ],
   "source": [
    "data_train = pd.DataFrame(new_train, dtype=str)\n",
    "data_train[:4]"
   ]
  },
  {
   "cell_type": "code",
   "execution_count": 17,
   "metadata": {
    "colab": {},
    "colab_type": "code",
    "id": "XDgfdO9rjK7Q"
   },
   "outputs": [],
   "source": [
    "data_train['Labels'] = labels_tr"
   ]
  },
  {
   "cell_type": "code",
   "execution_count": 18,
   "metadata": {
    "colab": {},
    "colab_type": "code",
    "id": "Vwt5AbkWhvAE"
   },
   "outputs": [],
   "source": [
    "data_train.columns = ['Message', 'Labels']"
   ]
  },
  {
   "cell_type": "code",
   "execution_count": 19,
   "metadata": {
    "colab": {
     "base_uri": "https://localhost:8080/",
     "height": 204
    },
    "colab_type": "code",
    "id": "z0jK4mcLjQCC",
    "outputId": "9c46921d-cf5c-4d03-cac9-b452169d4968"
   },
   "outputs": [
    {
     "data": {
      "text/html": [
       "<div>\n",
       "<style scoped>\n",
       "    .dataframe tbody tr th:only-of-type {\n",
       "        vertical-align: middle;\n",
       "    }\n",
       "\n",
       "    .dataframe tbody tr th {\n",
       "        vertical-align: top;\n",
       "    }\n",
       "\n",
       "    .dataframe thead th {\n",
       "        text-align: right;\n",
       "    }\n",
       "</style>\n",
       "<table border=\"1\" class=\"dataframe\">\n",
       "  <thead>\n",
       "    <tr style=\"text-align: right;\">\n",
       "      <th></th>\n",
       "      <th>Message</th>\n",
       "      <th>Labels</th>\n",
       "    </tr>\n",
       "  </thead>\n",
       "  <tbody>\n",
       "    <tr>\n",
       "      <td>0</td>\n",
       "      <td>Stuning even for the non-gamer: This sound tra...</td>\n",
       "      <td>1</td>\n",
       "    </tr>\n",
       "    <tr>\n",
       "      <td>1</td>\n",
       "      <td>The best soundtrack ever to anything.: I'm rea...</td>\n",
       "      <td>1</td>\n",
       "    </tr>\n",
       "    <tr>\n",
       "      <td>2</td>\n",
       "      <td>Amazing!: This soundtrack is my favorite music...</td>\n",
       "      <td>1</td>\n",
       "    </tr>\n",
       "    <tr>\n",
       "      <td>3</td>\n",
       "      <td>Excellent Soundtrack: I truly like this soundt...</td>\n",
       "      <td>1</td>\n",
       "    </tr>\n",
       "    <tr>\n",
       "      <td>4</td>\n",
       "      <td>Remember, Pull Your Jaw Off The Floor After He...</td>\n",
       "      <td>1</td>\n",
       "    </tr>\n",
       "  </tbody>\n",
       "</table>\n",
       "</div>"
      ],
      "text/plain": [
       "                                             Message  Labels\n",
       "0  Stuning even for the non-gamer: This sound tra...       1\n",
       "1  The best soundtrack ever to anything.: I'm rea...       1\n",
       "2  Amazing!: This soundtrack is my favorite music...       1\n",
       "3  Excellent Soundtrack: I truly like this soundt...       1\n",
       "4  Remember, Pull Your Jaw Off The Floor After He...       1"
      ]
     },
     "execution_count": 19,
     "metadata": {},
     "output_type": "execute_result"
    }
   ],
   "source": [
    "data_train.head()\n",
    "\n"
   ]
  },
  {
   "cell_type": "code",
   "execution_count": 20,
   "metadata": {
    "colab": {
     "base_uri": "https://localhost:8080/",
     "height": 34
    },
    "colab_type": "code",
    "id": "378US0mCh1gm",
    "outputId": "50a4ffaa-a252-499b-c0df-d08c720c061d"
   },
   "outputs": [
    {
     "data": {
      "text/plain": [
       "(3600000, 2)"
      ]
     },
     "execution_count": 20,
     "metadata": {},
     "output_type": "execute_result"
    }
   ],
   "source": [
    "data_train.shape"
   ]
  },
  {
   "cell_type": "code",
   "execution_count": 0,
   "metadata": {
    "colab": {},
    "colab_type": "code",
    "id": "vJxuJs55h2GT"
   },
   "outputs": [],
   "source": []
  },
  {
   "cell_type": "code",
   "execution_count": 21,
   "metadata": {
    "colab": {},
    "colab_type": "code",
    "id": "A_JI_p3Bh4a8"
   },
   "outputs": [],
   "source": [
    "from sklearn.model_selection import train_test_split\n",
    "from sklearn.pipeline import Pipeline\n",
    "from sklearn.feature_extraction.text import CountVectorizer\n",
    "from sklearn.feature_extraction.text import TfidfTransformer\n",
    "from sklearn.naive_bayes import MultinomialNB\n",
    "from sklearn.metrics import classification_report,confusion_matrix"
   ]
  },
  {
   "cell_type": "code",
   "execution_count": 22,
   "metadata": {
    "colab": {
     "base_uri": "https://localhost:8080/",
     "height": 34
    },
    "colab_type": "code",
    "id": "7zlOVj1PjTii",
    "outputId": "e7a9b280-3c03-4b95-dafb-fe824a0357fb"
   },
   "outputs": [
    {
     "name": "stdout",
     "output_type": "stream",
     "text": [
      "1264355\n"
     ]
    }
   ],
   "source": [
    "bow_transformer = CountVectorizer(lowercase=False).fit(data_train['Message'])\n",
    "print(len(bow_transformer.vocabulary_))"
   ]
  },
  {
   "cell_type": "code",
   "execution_count": 23,
   "metadata": {
    "colab": {},
    "colab_type": "code",
    "id": "VJhG9d-zjWTe"
   },
   "outputs": [],
   "source": [
    "amazon_bow = bow_transformer.transform(data_train['Message'])"
   ]
  },
  {
   "cell_type": "code",
   "execution_count": 25,
   "metadata": {
    "colab": {
     "base_uri": "https://localhost:8080/",
     "height": 51
    },
    "colab_type": "code",
    "id": "_-kvWWjfjauz",
    "outputId": "cf941c9c-4a17-4f45-98a7-4b7643256a61"
   },
   "outputs": [
    {
     "name": "stdout",
     "output_type": "stream",
     "text": [
      "Shape of Sparse Matrix:  (3600000, 1264355)\n",
      "Amount of non-zero occurences: 204911651\n"
     ]
    }
   ],
   "source": [
    "print('Shape of Sparse Matrix: ',amazon_bow.shape)\n",
    "print('Amount of non-zero occurences:',amazon_bow.nnz)"
   ]
  },
  {
   "cell_type": "code",
   "execution_count": 26,
   "metadata": {
    "colab": {
     "base_uri": "https://localhost:8080/",
     "height": 54
    },
    "colab_type": "code",
    "id": "AIdEgenUjbVT",
    "outputId": "925e63b2-8263-4cfa-e75d-abef9048a715"
   },
   "outputs": [
    {
     "name": "stdout",
     "output_type": "stream",
     "text": [
      "Excellent Soundtrack: I truly like this soundtrack and I enjoy video game music. I have played this game and most of the music on here I enjoy and it's truly relaxing and peaceful.On disk one. my favorites are Scars Of Time, Between Life and Death, Forest Of Illusion, Fortress of Ancient Dragons, Lost Fragment, and Drowned Valley.Disk Two: The Draggons, Galdorb - Home, Chronomantique, Prisoners of Fate, Gale, and my girlfriend likes ZelbessDisk Three: The best of the three. Garden Of God, Chronopolis, Fates, Jellyfish sea, Burning Orphange, Dragon's Prayer, Tower Of Stars, Dragon God, and Radical Dreamers - Unstealable Jewel.Overall, this is a excellent soundtrack and should be brought by those that like video game music.Xander Cross\n"
     ]
    }
   ],
   "source": [
    "message4=data_train['Message'][3]\n",
    "print(message4)"
   ]
  },
  {
   "cell_type": "code",
   "execution_count": 27,
   "metadata": {
    "colab": {
     "base_uri": "https://localhost:8080/",
     "height": 544
    },
    "colab_type": "code",
    "id": "FDPu23bqjhTO",
    "outputId": "ac78852c-66db-48b3-8723-29318edfffbc"
   },
   "outputs": [
    {
     "name": "stdout",
     "output_type": "stream",
     "text": [
      "  (0, 70001)\t1\n",
      "  (0, 104927)\t1\n",
      "  (0, 122549)\t1\n",
      "  (0, 151457)\t1\n",
      "  (0, 151465)\t1\n",
      "  (0, 167472)\t1\n",
      "  (0, 185011)\t1\n",
      "  (0, 194704)\t1\n",
      "  (0, 199395)\t1\n",
      "  (0, 199418)\t2\n",
      "  (0, 199558)\t1\n",
      "  (0, 200041)\t1\n",
      "  (0, 200896)\t1\n",
      "  (0, 223570)\t1\n",
      "  (0, 234956)\t1\n",
      "  (0, 234975)\t1\n",
      "  (0, 243168)\t1\n",
      "  (0, 243694)\t1\n",
      "  (0, 244459)\t1\n",
      "  (0, 255504)\t1\n",
      "  (0, 255508)\t1\n",
      "  (0, 256823)\t1\n",
      "  (0, 264073)\t2\n",
      "  (0, 293778)\t1\n",
      "  (0, 306195)\t1\n",
      "  :\t:\n",
      "  (0, 896719)\t1\n",
      "  (0, 900906)\t1\n",
      "  (0, 935915)\t1\n",
      "  (0, 937564)\t1\n",
      "  (0, 961172)\t2\n",
      "  (0, 961703)\t1\n",
      "  (0, 997029)\t1\n",
      "  (0, 1001709)\t3\n",
      "  (0, 1002930)\t2\n",
      "  (0, 1020291)\t4\n",
      "  (0, 1024370)\t1\n",
      "  (0, 1024829)\t1\n",
      "  (0, 1043102)\t1\n",
      "  (0, 1054954)\t1\n",
      "  (0, 1095621)\t1\n",
      "  (0, 1122717)\t1\n",
      "  (0, 1133296)\t1\n",
      "  (0, 1149524)\t2\n",
      "  (0, 1184858)\t1\n",
      "  (0, 1185577)\t2\n",
      "  (0, 1192950)\t3\n",
      "  (0, 1194092)\t1\n",
      "  (0, 1194797)\t1\n",
      "  (0, 1209399)\t2\n",
      "  (0, 1233257)\t2\n",
      "(1, 1264355)\n"
     ]
    }
   ],
   "source": [
    "bow4=bow_transformer.transform([message4])\n",
    "print(bow4)\n",
    "print(bow4.shape)"
   ]
  },
  {
   "cell_type": "code",
   "execution_count": 28,
   "metadata": {
    "colab": {
     "base_uri": "https://localhost:8080/",
     "height": 527
    },
    "colab_type": "code",
    "id": "TBtk5x8sjltB",
    "outputId": "c2a79655-ef5f-48a6-bc7f-624ca6e852aa"
   },
   "outputs": [
    {
     "name": "stdout",
     "output_type": "stream",
     "text": [
      "  (0, 1233257)\t0.11495628469406777\n",
      "  (0, 1209399)\t0.12205180647557985\n",
      "  (0, 1194797)\t0.05568097520913043\n",
      "  (0, 1194092)\t0.04850073471213825\n",
      "  (0, 1192950)\t0.05191863672512791\n",
      "  (0, 1185577)\t0.027179581976913426\n",
      "  (0, 1184858)\t0.021071300466346456\n",
      "  (0, 1149524)\t0.14792546732506243\n",
      "  (0, 1133296)\t0.04326771361360803\n",
      "  (0, 1122717)\t0.08943493761960164\n",
      "  (0, 1095621)\t0.08745136115996081\n",
      "  (0, 1054954)\t0.061674341911787715\n",
      "  (0, 1043102)\t0.10010047914326554\n",
      "  (0, 1024829)\t0.02770588033091996\n",
      "  (0, 1024370)\t0.023456027973277806\n",
      "  (0, 1020291)\t0.06640872348129513\n",
      "  (0, 1002930)\t0.052291730762959204\n",
      "  (0, 1001709)\t0.13654932347800838\n",
      "  (0, 997029)\t0.04311651331496057\n",
      "  (0, 961703)\t0.069944501391638\n",
      "  (0, 961172)\t0.06027376245033363\n",
      "  (0, 937564)\t0.017195501411388998\n",
      "  (0, 935915)\t0.016977096319412726\n",
      "  (0, 900906)\t0.04935375243862997\n",
      "  (0, 896719)\t0.024052588067172587\n",
      "  :\t:\n",
      "  (0, 306195)\t0.12136618478812801\n",
      "  (0, 293778)\t0.08058048786774226\n",
      "  (0, 264073)\t0.13048746482527085\n",
      "  (0, 256823)\t0.09684817621647993\n",
      "  (0, 255508)\t0.1273956598798065\n",
      "  (0, 255504)\t0.1818111588160909\n",
      "  (0, 244459)\t0.1654481830153002\n",
      "  (0, 243694)\t0.12255121850984858\n",
      "  (0, 243168)\t0.1069111252265609\n",
      "  (0, 234975)\t0.1296538508439828\n",
      "  (0, 234956)\t0.11460580631927329\n",
      "  (0, 223570)\t0.060927417784023344\n",
      "  (0, 200896)\t0.1398459918752523\n",
      "  (0, 200041)\t0.13714488508517406\n",
      "  (0, 199558)\t0.11038987232767147\n",
      "  (0, 199418)\t0.18942029955862874\n",
      "  (0, 199395)\t0.1818111588160909\n",
      "  (0, 194704)\t0.10669567271485784\n",
      "  (0, 185011)\t0.08654709028550553\n",
      "  (0, 167472)\t0.09447316251914356\n",
      "  (0, 151465)\t0.1818111588160909\n",
      "  (0, 151457)\t0.17702529519425575\n",
      "  (0, 122549)\t0.1063747450909849\n",
      "  (0, 104927)\t0.09731181995160428\n",
      "  (0, 70001)\t0.10403947660425945\n"
     ]
    }
   ],
   "source": [
    "from sklearn.feature_extraction.text import TfidfTransformer\n",
    "tfidf_transformer=TfidfTransformer().fit(amazon_bow)\n",
    "tfidf4 = tfidf_transformer.transform(bow4)\n",
    "print(tfidf4)"
   ]
  },
  {
   "cell_type": "code",
   "execution_count": 29,
   "metadata": {
    "colab": {
     "base_uri": "https://localhost:8080/",
     "height": 34
    },
    "colab_type": "code",
    "id": "DcCmoI77jyct",
    "outputId": "3a12ec48-6b87-4c10-95d7-d22aba0c4c7c"
   },
   "outputs": [
    {
     "name": "stdout",
     "output_type": "stream",
     "text": [
      "(3600000, 1264355)\n"
     ]
    }
   ],
   "source": [
    "amazon_tfidf=tfidf_transformer.transform(amazon_bow)\n",
    "print(amazon_tfidf.shape)"
   ]
  },
  {
   "cell_type": "code",
   "execution_count": 30,
   "metadata": {
    "colab": {},
    "colab_type": "code",
    "id": "RtF_eX9TjoGm"
   },
   "outputs": [],
   "source": [
    "from sklearn.naive_bayes import MultinomialNB\n",
    "spam_detect_model = MultinomialNB().fit(amazon_tfidf,data_train['Labels'])"
   ]
  },
  {
   "cell_type": "code",
   "execution_count": 31,
   "metadata": {
    "colab": {
     "base_uri": "https://localhost:8080/",
     "height": 34
    },
    "colab_type": "code",
    "id": "vSU1x28Rj0s2",
    "outputId": "e4b650de-eea8-4439-d6e5-94b799b723e1"
   },
   "outputs": [
    {
     "name": "stdout",
     "output_type": "stream",
     "text": [
      "[1 1 1 ... 1 1 1]\n"
     ]
    }
   ],
   "source": [
    "all_predictions = spam_detect_model.predict(amazon_tfidf)\n",
    "print(all_predictions)"
   ]
  },
  {
   "cell_type": "code",
   "execution_count": 32,
   "metadata": {
    "colab": {
     "base_uri": "https://localhost:8080/",
     "height": 204
    },
    "colab_type": "code",
    "id": "0yGmS08cj3Pk",
    "outputId": "b0dabe87-c92d-4a58-b169-480ad819923b"
   },
   "outputs": [
    {
     "name": "stdout",
     "output_type": "stream",
     "text": [
      "              precision    recall  f1-score   support\n",
      "\n",
      "           0       0.86      0.88      0.87   1800000\n",
      "           1       0.88      0.85      0.87   1800000\n",
      "\n",
      "    accuracy                           0.87   3600000\n",
      "   macro avg       0.87      0.87      0.87   3600000\n",
      "weighted avg       0.87      0.87      0.87   3600000\n",
      "\n",
      "[[1590067  209933]\n",
      " [ 265192 1534808]]\n"
     ]
    }
   ],
   "source": [
    "from sklearn.metrics import classification_report,confusion_matrix\n",
    "print(classification_report(data_train['Labels'],all_predictions))\n",
    "print(confusion_matrix(data_train['Labels'],all_predictions))"
   ]
  },
  {
   "cell_type": "code",
   "execution_count": 33,
   "metadata": {
    "colab": {
     "base_uri": "https://localhost:8080/",
     "height": 34
    },
    "colab_type": "code",
    "id": "xh-oIUprj_PR",
    "outputId": "56a95db8-e508-4f67-e111-38b2b77deafd"
   },
   "outputs": [
    {
     "name": "stdout",
     "output_type": "stream",
     "text": [
      "0.8680208333333334\n"
     ]
    }
   ],
   "source": [
    "print(roc_auc_score(data_train['Labels'], all_predictions))"
   ]
  },
  {
   "cell_type": "markdown",
   "metadata": {
    "colab": {},
    "colab_type": "code",
    "id": "zK69ps-kkAdR"
   },
   "source": [
    "Now moving forward to neural model"
   ]
  },
  {
   "cell_type": "code",
   "execution_count": 34,
   "metadata": {
    "colab": {},
    "colab_type": "code",
    "id": "-7NNplWmkAUN"
   },
   "outputs": [],
   "source": [
    "import pandas as pd\n",
    "import numpy as np\n",
    "import re\n",
    "import nltk\n",
    "from nltk.corpus import stopwords\n",
    "\n",
    "\n"
   ]
  },
  {
   "cell_type": "code",
   "execution_count": 35,
   "metadata": {
    "colab": {
     "base_uri": "https://localhost:8080/",
     "height": 34
    },
    "colab_type": "code",
    "id": "TpkRasjWkEAl",
    "outputId": "b24e12e3-e760-4140-eab3-680b29e225bc"
   },
   "outputs": [
    {
     "name": "stderr",
     "output_type": "stream",
     "text": [
      "Using TensorFlow backend.\n"
     ]
    }
   ],
   "source": [
    "from numpy import array\n",
    "from keras.preprocessing.text import one_hot\n",
    "from keras.preprocessing.sequence import pad_sequences\n",
    "from keras.models import Sequential\n",
    "from keras.layers.core import Activation, Dropout, Dense\n",
    "from keras.layers import Flatten\n",
    "from keras.layers import GlobalMaxPooling1D\n",
    "from keras.layers.embeddings import Embedding\n",
    "from sklearn.model_selection import train_test_split\n",
    "\n"
   ]
  },
  {
   "cell_type": "code",
   "execution_count": 36,
   "metadata": {
    "colab": {},
    "colab_type": "code",
    "id": "pp_e9WDdkGh3"
   },
   "outputs": [],
   "source": [
    "from keras.preprocessing.text import Tokenizer"
   ]
  },
  {
   "cell_type": "code",
   "execution_count": 35,
   "metadata": {
    "colab": {
     "base_uri": "https://localhost:8080/",
     "height": 204
    },
    "colab_type": "code",
    "id": "o8H57EyakJsW",
    "outputId": "65cfd704-c896-4231-a2ad-12b3ad691b53"
   },
   "outputs": [
    {
     "data": {
      "text/html": [
       "<div>\n",
       "<style scoped>\n",
       "    .dataframe tbody tr th:only-of-type {\n",
       "        vertical-align: middle;\n",
       "    }\n",
       "\n",
       "    .dataframe tbody tr th {\n",
       "        vertical-align: top;\n",
       "    }\n",
       "\n",
       "    .dataframe thead th {\n",
       "        text-align: right;\n",
       "    }\n",
       "</style>\n",
       "<table border=\"1\" class=\"dataframe\">\n",
       "  <thead>\n",
       "    <tr style=\"text-align: right;\">\n",
       "      <th></th>\n",
       "      <th>Message</th>\n",
       "      <th>Labels</th>\n",
       "    </tr>\n",
       "  </thead>\n",
       "  <tbody>\n",
       "    <tr>\n",
       "      <th>0</th>\n",
       "      <td>Great CD: My lovely Pat has one of the GREAT v...</td>\n",
       "      <td>1</td>\n",
       "    </tr>\n",
       "    <tr>\n",
       "      <th>1</th>\n",
       "      <td>One of the best game music soundtracks - for a...</td>\n",
       "      <td>1</td>\n",
       "    </tr>\n",
       "    <tr>\n",
       "      <th>2</th>\n",
       "      <td>Batteries died within a year ...: I bought thi...</td>\n",
       "      <td>1</td>\n",
       "    </tr>\n",
       "    <tr>\n",
       "      <th>3</th>\n",
       "      <td>works fine, but Maha Energy is better: Check o...</td>\n",
       "      <td>1</td>\n",
       "    </tr>\n",
       "    <tr>\n",
       "      <th>4</th>\n",
       "      <td>Great for the non-audiophile: Reviewed quite a...</td>\n",
       "      <td>1</td>\n",
       "    </tr>\n",
       "  </tbody>\n",
       "</table>\n",
       "</div>"
      ],
      "text/plain": [
       "                                             Message  Labels\n",
       "0  Great CD: My lovely Pat has one of the GREAT v...       1\n",
       "1  One of the best game music soundtracks - for a...       1\n",
       "2  Batteries died within a year ...: I bought thi...       1\n",
       "3  works fine, but Maha Energy is better: Check o...       1\n",
       "4  Great for the non-audiophile: Reviewed quite a...       1"
      ]
     },
     "execution_count": 35,
     "metadata": {
      "tags": []
     },
     "output_type": "execute_result"
    }
   ],
   "source": [
    "data_train.head()"
   ]
  },
  {
   "cell_type": "code",
   "execution_count": 37,
   "metadata": {
    "colab": {},
    "colab_type": "code",
    "id": "oP4dsFipkOaI"
   },
   "outputs": [],
   "source": [
    "y_train = data_train['Labels']"
   ]
  },
  {
   "cell_type": "code",
   "execution_count": 38,
   "metadata": {
    "colab": {},
    "colab_type": "code",
    "id": "1RkCt65Cko6N"
   },
   "outputs": [],
   "source": [
    "data_test = pd.DataFrame(new)"
   ]
  },
  {
   "cell_type": "code",
   "execution_count": 39,
   "metadata": {
    "colab": {
     "base_uri": "https://localhost:8080/",
     "height": 204
    },
    "colab_type": "code",
    "id": "qra7E2WikqIF",
    "outputId": "62700d43-771f-414d-d00b-dce2e224d589"
   },
   "outputs": [
    {
     "data": {
      "text/html": [
       "<div>\n",
       "<style scoped>\n",
       "    .dataframe tbody tr th:only-of-type {\n",
       "        vertical-align: middle;\n",
       "    }\n",
       "\n",
       "    .dataframe tbody tr th {\n",
       "        vertical-align: top;\n",
       "    }\n",
       "\n",
       "    .dataframe thead th {\n",
       "        text-align: right;\n",
       "    }\n",
       "</style>\n",
       "<table border=\"1\" class=\"dataframe\">\n",
       "  <thead>\n",
       "    <tr style=\"text-align: right;\">\n",
       "      <th></th>\n",
       "      <th>0</th>\n",
       "    </tr>\n",
       "  </thead>\n",
       "  <tbody>\n",
       "    <tr>\n",
       "      <td>0</td>\n",
       "      <td>Great CD: My lovely Pat has one of the GREAT v...</td>\n",
       "    </tr>\n",
       "    <tr>\n",
       "      <td>1</td>\n",
       "      <td>One of the best game music soundtracks - for a...</td>\n",
       "    </tr>\n",
       "    <tr>\n",
       "      <td>2</td>\n",
       "      <td>Batteries died within a year ...: I bought thi...</td>\n",
       "    </tr>\n",
       "    <tr>\n",
       "      <td>3</td>\n",
       "      <td>works fine, but Maha Energy is better: Check o...</td>\n",
       "    </tr>\n",
       "    <tr>\n",
       "      <td>4</td>\n",
       "      <td>Great for the non-audiophile: Reviewed quite a...</td>\n",
       "    </tr>\n",
       "  </tbody>\n",
       "</table>\n",
       "</div>"
      ],
      "text/plain": [
       "                                                   0\n",
       "0  Great CD: My lovely Pat has one of the GREAT v...\n",
       "1  One of the best game music soundtracks - for a...\n",
       "2  Batteries died within a year ...: I bought thi...\n",
       "3  works fine, but Maha Energy is better: Check o...\n",
       "4  Great for the non-audiophile: Reviewed quite a..."
      ]
     },
     "execution_count": 39,
     "metadata": {},
     "output_type": "execute_result"
    }
   ],
   "source": [
    "data_test.head()"
   ]
  },
  {
   "cell_type": "code",
   "execution_count": 40,
   "metadata": {
    "colab": {},
    "colab_type": "code",
    "id": "QWuVoMCCkuih"
   },
   "outputs": [],
   "source": [
    "data_test.columns = ['Message']"
   ]
  },
  {
   "cell_type": "code",
   "execution_count": 41,
   "metadata": {
    "colab": {},
    "colab_type": "code",
    "id": "-YL3j3RgTcmD"
   },
   "outputs": [],
   "source": [
    "def preprocess_text(sen):\n",
    "    # Removing html tags\n",
    "    sentence = remove_tags(sen)\n",
    "\n",
    "    # Remove punctuations and numbers\n",
    "    sentence = re.sub('[^a-zA-Z]', ' ', sentence)\n",
    "\n",
    "    # Single character removal\n",
    "    sentence = re.sub(r\"\\s+[a-zA-Z]\\s+\", ' ', sentence)\n",
    "\n",
    "    # Removing multiple spaces\n",
    "    sentence = re.sub(r'\\s+', ' ', sentence)\n",
    "\n",
    "    return sentence"
   ]
  },
  {
   "cell_type": "code",
   "execution_count": 42,
   "metadata": {
    "colab": {},
    "colab_type": "code",
    "id": "WEguAQJLTu79"
   },
   "outputs": [],
   "source": [
    "TAG_RE = re.compile(r'<[^>]+>')\n",
    "\n",
    "def remove_tags(text):\n",
    "    return TAG_RE.sub('', text)"
   ]
  },
  {
   "cell_type": "code",
   "execution_count": 43,
   "metadata": {
    "colab": {},
    "colab_type": "code",
    "id": "noTmW-P8TeNO"
   },
   "outputs": [],
   "source": [
    "X_train = []\n",
    "sentences = list(data_train['Message'])\n",
    "for sen in sentences:\n",
    "    X_train.append(preprocess_text(sen))"
   ]
  },
  {
   "cell_type": "code",
   "execution_count": 44,
   "metadata": {},
   "outputs": [
    {
     "data": {
      "text/plain": [
       "'Excellent Soundtrack truly like this soundtrack and enjoy video game music have played this game and most of the music on here enjoy and it truly relaxing and peaceful On disk one my favorites are Scars Of Time Between Life and Death Forest Of Illusion Fortress of Ancient Dragons Lost Fragment and Drowned Valley Disk Two The Draggons Galdorb Home Chronomantique Prisoners of Fate Gale and my girlfriend likes ZelbessDisk Three The best of the three Garden Of God Chronopolis Fates Jellyfish sea Burning Orphange Dragon Prayer Tower Of Stars Dragon God and Radical Dreamers Unstealable Jewel Overall this is excellent soundtrack and should be brought by those that like video game music Xander Cross'"
      ]
     },
     "execution_count": 44,
     "metadata": {},
     "output_type": "execute_result"
    }
   ],
   "source": [
    "X_train[3]"
   ]
  },
  {
   "cell_type": "code",
   "execution_count": 45,
   "metadata": {
    "colab": {},
    "colab_type": "code",
    "id": "4OxCHwexT4_J"
   },
   "outputs": [],
   "source": [
    "X_test = []\n",
    "sentences = list(data_test['Message'])\n",
    "for sen in sentences:\n",
    "    X_test.append(preprocess_text(sen))"
   ]
  },
  {
   "cell_type": "code",
   "execution_count": 46,
   "metadata": {
    "colab": {
     "base_uri": "https://localhost:8080/",
     "height": 54
    },
    "colab_type": "code",
    "id": "UanFmh2lU8LK",
    "outputId": "e279b376-0a15-452a-c7f8-5ad4281e531a"
   },
   "outputs": [
    {
     "data": {
      "text/plain": [
       "\"works fine, but Maha Energy is better: Check out Maha Energy's website. Their Powerex MH-C204F charger works in 100 minutes for rapid charge, with option for slower charge (better for batteries). And they have 2200 mAh batteries.\""
      ]
     },
     "execution_count": 46,
     "metadata": {},
     "output_type": "execute_result"
    }
   ],
   "source": [
    "data_test['Message'][3]"
   ]
  },
  {
   "cell_type": "code",
   "execution_count": 48,
   "metadata": {
    "colab": {
     "base_uri": "https://localhost:8080/",
     "height": 54
    },
    "colab_type": "code",
    "id": "_7a0XdR0UJyQ",
    "outputId": "a78e094e-bf00-400c-8d56-24a37f512c2d",
    "scrolled": true
   },
   "outputs": [
    {
     "data": {
      "text/plain": [
       "'works fine but Maha Energy is better Check out Maha Energy website Their Powerex MH F charger works in minutes for rapid charge with option for slower charge better for batteries And they have mAh batteries '"
      ]
     },
     "execution_count": 48,
     "metadata": {},
     "output_type": "execute_result"
    }
   ],
   "source": [
    "X_test[3]"
   ]
  },
  {
   "cell_type": "code",
   "execution_count": 51,
   "metadata": {},
   "outputs": [],
   "source": [
    "tokenizer = Tokenizer(num_words=5000)\n",
    "tokenizer.fit_on_texts(X_train)\n",
    "\n",
    "X_train = tokenizer.texts_to_sequences(X_train)\n",
    "X_test = tokenizer.texts_to_sequences(X_test)"
   ]
  },
  {
   "cell_type": "code",
   "execution_count": 54,
   "metadata": {
    "colab": {
     "base_uri": "https://localhost:8080/",
     "height": 34
    },
    "colab_type": "code",
    "id": "XEswqeA9k2gx",
    "outputId": "5f6a67cb-d691-408d-a3d3-7da67491cf2b"
   },
   "outputs": [
    {
     "data": {
      "text/plain": [
       "1103004"
      ]
     },
     "execution_count": 54,
     "metadata": {},
     "output_type": "execute_result"
    }
   ],
   "source": [
    "vocab_size"
   ]
  },
  {
   "cell_type": "code",
   "execution_count": 53,
   "metadata": {
    "colab": {},
    "colab_type": "code",
    "id": "Gtt-vKoPkXqJ"
   },
   "outputs": [],
   "source": [
    "vocab_size = len(tokenizer.word_index) + 1\n",
    "\n",
    "maxlen = 100\n",
    "\n",
    "X_train = pad_sequences(X_train, padding='post', maxlen=maxlen)\n",
    "X_test = pad_sequences(X_test, padding='post', maxlen=maxlen)"
   ]
  },
  {
   "cell_type": "code",
   "execution_count": 55,
   "metadata": {
    "colab": {},
    "colab_type": "code",
    "id": "-BOD9ZZdk5XH"
   },
   "outputs": [],
   "source": [
    "from numpy import array\n",
    "from numpy import asarray\n",
    "from numpy import zeros\n",
    "\n",
    "embeddings_dictionary = dict()\n",
    "glove_file = open('glove.6B.100d.txt', encoding=\"utf8\")\n",
    "\n",
    "for line in glove_file:\n",
    "    records = line.split()\n",
    "    word = records[0]\n",
    "    vector_dimensions = asarray(records[1:], dtype='float32')\n",
    "    embeddings_dictionary [word] = vector_dimensions\n",
    "glove_file.close()"
   ]
  },
  {
   "cell_type": "code",
   "execution_count": 56,
   "metadata": {
    "colab": {},
    "colab_type": "code",
    "id": "6UJHIAimk7V-"
   },
   "outputs": [],
   "source": [
    "embedding_matrix = zeros((vocab_size, 100))\n",
    "for word, index in tokenizer.word_index.items():\n",
    "    embedding_vector = embeddings_dictionary.get(word)\n",
    "    if embedding_vector is not None:\n",
    "        embedding_matrix[index] = embedding_vector"
   ]
  },
  {
   "cell_type": "code",
   "execution_count": 0,
   "metadata": {
    "colab": {},
    "colab_type": "code",
    "id": "6_mmglfvk_sN"
   },
   "outputs": [],
   "source": []
  },
  {
   "cell_type": "code",
   "execution_count": 57,
   "metadata": {
    "colab": {},
    "colab_type": "code",
    "id": "3DB-IAAdk9Z_"
   },
   "outputs": [],
   "source": [
    "from keras import layers"
   ]
  },
  {
   "cell_type": "code",
   "execution_count": 58,
   "metadata": {
    "colab": {},
    "colab_type": "code",
    "id": "UkuCt6cFlClX"
   },
   "outputs": [],
   "source": [
    "from keras import optimizers"
   ]
  },
  {
   "cell_type": "code",
   "execution_count": 77,
   "metadata": {},
   "outputs": [],
   "source": [
    "opt = optimizers.adam(lr=0.001)"
   ]
  },
  {
   "cell_type": "code",
   "execution_count": 59,
   "metadata": {
    "colab": {},
    "colab_type": "code",
    "id": "aT3yW150lBxT"
   },
   "outputs": [],
   "source": [
    "model = Sequential()\n",
    "embedding_layer = Embedding(vocab_size, 100, weights=[embedding_matrix], input_length=maxlen , trainable=True)\n",
    "model.add(embedding_layer)\n",
    "\n",
    "\n",
    "model.add(Flatten())\n",
    "model.add(Dense(1, activation='sigmoid'))"
   ]
  },
  {
   "cell_type": "code",
   "execution_count": 68,
   "metadata": {
    "colab": {},
    "colab_type": "code",
    "id": "DCSlVjtrlF95"
   },
   "outputs": [
    {
     "name": "stdout",
     "output_type": "stream",
     "text": [
      "Model: \"sequential_1\"\n",
      "_________________________________________________________________\n",
      "Layer (type)                 Output Shape              Param #   \n",
      "=================================================================\n",
      "embedding_1 (Embedding)      (None, 100, 100)          110300400 \n",
      "_________________________________________________________________\n",
      "flatten_1 (Flatten)          (None, 10000)             0         \n",
      "_________________________________________________________________\n",
      "dense_1 (Dense)              (None, 1)                 10001     \n",
      "=================================================================\n",
      "Total params: 110,310,401\n",
      "Trainable params: 110,310,401\n",
      "Non-trainable params: 0\n",
      "_________________________________________________________________\n",
      "None\n"
     ]
    }
   ],
   "source": [
    "model.compile(optimizer=opt, loss='binary_crossentropy', metrics=['acc'])\n",
    "\n",
    "print(model.summary())"
   ]
  },
  {
   "cell_type": "code",
   "execution_count": 69,
   "metadata": {
    "colab": {
     "base_uri": "https://localhost:8080/",
     "height": 1000
    },
    "colab_type": "code",
    "id": "a9wGPmpylHkb",
    "outputId": "c0f182de-1f68-41a6-e182-243de1e7ff8f"
   },
   "outputs": [
    {
     "name": "stderr",
     "output_type": "stream",
     "text": [
      "//anaconda3/envs/tensorflow_env/lib/python3.7/site-packages/tensorflow_core/python/framework/indexed_slices.py:424: UserWarning: Converting sparse IndexedSlices to a dense Tensor of unknown shape. This may consume a large amount of memory.\n",
      "  \"Converting sparse IndexedSlices to a dense Tensor of unknown shape. \"\n"
     ]
    },
    {
     "name": "stdout",
     "output_type": "stream",
     "text": [
      "Train on 2880000 samples, validate on 720000 samples\n",
      "Epoch 1/5\n",
      "2880000/2880000 [==============================] - 4451s 2ms/step - loss: 14.7119 - acc: 0.8447 - val_loss: 17.2943 - val_acc: 0.8548\n",
      "Epoch 2/5\n",
      "2880000/2880000 [==============================] - 4733s 2ms/step - loss: 16.5583 - acc: 0.8552 - val_loss: 16.0924 - val_acc: 0.8557\n",
      "Epoch 3/5\n",
      "2880000/2880000 [==============================] - 4823s 2ms/step - loss: 16.4399 - acc: 0.8566 - val_loss: 16.8225 - val_acc: 0.8569\n",
      "Epoch 4/5\n",
      "2880000/2880000 [==============================] - 4587s 2ms/step - loss: 16.7710 - acc: 0.8569 - val_loss: 16.5355 - val_acc: 0.8602\n",
      "Epoch 5/5\n",
      "2880000/2880000 [==============================] - 4524s 2ms/step - loss: 16.9367 - acc: 0.8574 - val_loss: 16.9814 - val_acc: 0.8559\n"
     ]
    }
   ],
   "source": [
    "history = model.fit(X_train, y_train, batch_size=2500, epochs=5, verbose=1, validation_split=0.2)"
   ]
  },
  {
   "cell_type": "code",
   "execution_count": 70,
   "metadata": {
    "colab": {
     "base_uri": "https://localhost:8080/",
     "height": 34
    },
    "colab_type": "code",
    "id": "imQmV-LVlK-E",
    "outputId": "3e74d76a-8756-40eb-ed14-f1167c64be05"
   },
   "outputs": [
    {
     "name": "stdout",
     "output_type": "stream",
     "text": [
      "400000/400000 [==============================] - 21s 54us/step\n"
     ]
    }
   ],
   "source": [
    "score = model.evaluate(X_test, labels, verbose=1)"
   ]
  },
  {
   "cell_type": "code",
   "execution_count": 0,
   "metadata": {
    "colab": {},
    "colab_type": "code",
    "id": "9V7sldhIV9Q6"
   },
   "outputs": [],
   "source": [
    "from keras.regularizers import l2"
   ]
  },
  {
   "cell_type": "code",
   "execution_count": 71,
   "metadata": {
    "colab": {
     "base_uri": "https://localhost:8080/",
     "height": 51
    },
    "colab_type": "code",
    "id": "wMo3vME9lNHd",
    "outputId": "f140c06b-2b90-4a4a-84c4-b1b29055424f"
   },
   "outputs": [
    {
     "name": "stdout",
     "output_type": "stream",
     "text": [
      "Test Score: 17.234908778186913\n",
      "Test Accuracy: 0.8543199896812439\n"
     ]
    }
   ],
   "source": [
    "print(\"Test Score:\", score[0])\n",
    "print(\"Test Accuracy:\", score[1])"
   ]
  },
  {
   "cell_type": "code",
   "execution_count": 72,
   "metadata": {
    "colab": {},
    "colab_type": "code",
    "id": "W9kEaPhnlOw8"
   },
   "outputs": [],
   "source": [
    "all_predictions1 = model.predict(X_test)"
   ]
  },
  {
   "cell_type": "code",
   "execution_count": 73,
   "metadata": {
    "colab": {
     "base_uri": "https://localhost:8080/",
     "height": 34
    },
    "colab_type": "code",
    "id": "SPS3p3XTlQ1o",
    "outputId": "73f1999f-ccd9-4fb0-ab70-32029a6d6275",
    "scrolled": true
   },
   "outputs": [
    {
     "name": "stdout",
     "output_type": "stream",
     "text": [
      "0.8671587674749999\n"
     ]
    }
   ],
   "source": [
    "print(roc_auc_score(labels, all_predictions1))"
   ]
  },
  {
   "cell_type": "markdown",
   "metadata": {},
   "source": [
    "Okey, so roc is lower but most porobably it due to the too large learnigng rate and small number of epochs (but sadly enough my laptop cannot process more than that and google colab stops session automatically)"
   ]
  },
  {
   "cell_type": "markdown",
   "metadata": {},
   "source": [
    "I believe that given the roc score (almost the same as for hard baseline model) that was produced by simple NN-model with 6 epochs, with increased number of epochs (and more complex structure), it will out-perform hard baseline model.\n",
    "\n",
    "Because of a potential drawback with one-hot encoded feature vector approaches such as N-Grams, bag of words and TF-IDF approach being that the feature vector for each document can be huge, the NN model, which does not encounter the same problem, should perform better"
   ]
  },
  {
   "cell_type": "markdown",
   "metadata": {},
   "source": [
    "**Conclusion:**\n",
    "\n",
    "1. The best model so far is fasttext\n",
    "2. NN showed not bad results, but to make it better: – 1) increase # of epochs and change structure to LSTM (as it is a powerful and popular tool to work with sequential data like text or time series); 2) make learning rate smaller"
   ]
  }
 ],
 "metadata": {
  "colab": {
   "machine_shape": "hm",
   "name": "New version",
   "provenance": []
  },
  "kernelspec": {
   "display_name": "Python 3",
   "language": "python",
   "name": "python3"
  },
  "language_info": {
   "codemirror_mode": {
    "name": "ipython",
    "version": 3
   },
   "file_extension": ".py",
   "mimetype": "text/x-python",
   "name": "python",
   "nbconvert_exporter": "python",
   "pygments_lexer": "ipython3",
   "version": "3.7.5"
  }
 },
 "nbformat": 4,
 "nbformat_minor": 1
}
